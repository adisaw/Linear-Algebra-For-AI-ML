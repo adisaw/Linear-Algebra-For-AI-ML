{
 "cells": [
  {
   "cell_type": "code",
   "execution_count": 1,
   "metadata": {},
   "outputs": [],
   "source": [
    "from keras.datasets import mnist"
   ]
  },
  {
   "cell_type": "code",
   "execution_count": 2,
   "metadata": {},
   "outputs": [],
   "source": [
    "(x_train,y_train),(x_test,y_test)=mnist.load_data()"
   ]
  },
  {
   "cell_type": "code",
   "execution_count": 3,
   "metadata": {},
   "outputs": [
    {
     "data": {
      "text/plain": [
       "(60000, 28, 28)"
      ]
     },
     "execution_count": 3,
     "metadata": {},
     "output_type": "execute_result"
    }
   ],
   "source": [
    "import numpy as np\n",
    "np.shape(x_train)"
   ]
  },
  {
   "cell_type": "code",
   "execution_count": 4,
   "metadata": {},
   "outputs": [
    {
     "data": {
      "text/plain": [
       "(10000, 28, 28)"
      ]
     },
     "execution_count": 4,
     "metadata": {},
     "output_type": "execute_result"
    }
   ],
   "source": [
    "np.shape(x_test)"
   ]
  },
  {
   "cell_type": "code",
   "execution_count": 5,
   "metadata": {},
   "outputs": [
    {
     "data": {
      "text/plain": [
       "(10000,)"
      ]
     },
     "execution_count": 5,
     "metadata": {},
     "output_type": "execute_result"
    }
   ],
   "source": [
    "np.shape(y_test)"
   ]
  },
  {
   "cell_type": "code",
   "execution_count": 7,
   "metadata": {},
   "outputs": [
    {
     "data": {
      "text/plain": [
       "<matplotlib.image.AxesImage at 0x1c23b8fb9b0>"
      ]
     },
     "execution_count": 7,
     "metadata": {},
     "output_type": "execute_result"
    },
    {
     "data": {
      "image/png": "[encoded data removed]",
      "text/plain": [
       "<Figure size 432x288 with 1 Axes>"
      ]
     },
     "metadata": {
      "needs_background": "light"
     },
     "output_type": "display_data"
    }
   ],
   "source": [
    "import matplotlib.pyplot as plt\n",
    "plt.imshow(x_train[0],cmap='gray')"
   ]
  },
  {
   "cell_type": "code",
   "execution_count": 8,
   "metadata": {},
   "outputs": [
    {
     "name": "stdout",
     "output_type": "stream",
     "text": [
      "5\n"
     ]
    }
   ],
   "source": [
    "print(y_train[0])"
   ]
  },
  {
   "cell_type": "code",
   "execution_count": 9,
   "metadata": {},
   "outputs": [
    {
     "data": {
      "text/plain": [
       "(28, 28)"
      ]
     },
     "execution_count": 9,
     "metadata": {},
     "output_type": "execute_result"
    }
   ],
   "source": [
    "np.shape(x_train[0])"
   ]
  },
  {
   "cell_type": "code",
   "execution_count": 10,
   "metadata": {},
   "outputs": [
    {
     "name": "stdout",
     "output_type": "stream",
     "text": [
      "[[  0   0   0   0   0   0   0   0   0   0   0   0   0   0   0   0   0   0\n",
      "    0   0   0   0   0   0   0   0   0   0]\n",
      " [  0   0   0   0   0   0   0   0   0   0   0   0   0   0   0   0   0   0\n",
      "    0   0   0   0   0   0   0   0   0   0]\n",
      " [  0   0   0   0   0   0   0   0   0   0   0   0   0   0   0   0   0   0\n",
      "    0   0   0   0   0   0   0   0   0   0]\n",
      " [  0   0   0   0   0   0   0   0   0   0   0   0   0   0   0   0   0   0\n",
      "    0   0   0   0   0   0   0   0   0   0]\n",
      " [  0   0   0   0   0   0   0   0   0   0   0   0   0   0   0   0   0   0\n",
      "    0   0   0   0   0   0   0   0   0   0]\n",
      " [  0   0   0   0   0   0   0   0   0   0   0   0   3  18  18  18 126 136\n",
      "  175  26 166 255 247 127   0   0   0   0]\n",
      " [  0   0   0   0   0   0   0   0  30  36  94 154 170 253 253 253 253 253\n",
      "  225 172 253 242 195  64   0   0   0   0]\n",
      " [  0   0   0   0   0   0   0  49 238 253 253 253 253 253 253 253 253 251\n",
      "   93  82  82  56  39   0   0   0   0   0]\n",
      " [  0   0   0   0   0   0   0  18 219 253 253 253 253 253 198 182 247 241\n",
      "    0   0   0   0   0   0   0   0   0   0]\n",
      " [  0   0   0   0   0   0   0   0  80 156 107 253 253 205  11   0  43 154\n",
      "    0   0   0   0   0   0   0   0   0   0]\n",
      " [  0   0   0   0   0   0   0   0   0  14   1 154 253  90   0   0   0   0\n",
      "    0   0   0   0   0   0   0   0   0   0]\n",
      " [  0   0   0   0   0   0   0   0   0   0   0 139 253 190   2   0   0   0\n",
      "    0   0   0   0   0   0   0   0   0   0]\n",
      " [  0   0   0   0   0   0   0   0   0   0   0  11 190 253  70   0   0   0\n",
      "    0   0   0   0   0   0   0   0   0   0]\n",
      " [  0   0   0   0   0   0   0   0   0   0   0   0  35 241 225 160 108   1\n",
      "    0   0   0   0   0   0   0   0   0   0]\n",
      " [  0   0   0   0   0   0   0   0   0   0   0   0   0  81 240 253 253 119\n",
      "   25   0   0   0   0   0   0   0   0   0]\n",
      " [  0   0   0   0   0   0   0   0   0   0   0   0   0   0  45 186 253 253\n",
      "  150  27   0   0   0   0   0   0   0   0]\n",
      " [  0   0   0   0   0   0   0   0   0   0   0   0   0   0   0  16  93 252\n",
      "  253 187   0   0   0   0   0   0   0   0]\n",
      " [  0   0   0   0   0   0   0   0   0   0   0   0   0   0   0   0   0 249\n",
      "  253 249  64   0   0   0   0   0   0   0]\n",
      " [  0   0   0   0   0   0   0   0   0   0   0   0   0   0  46 130 183 253\n",
      "  253 207   2   0   0   0   0   0   0   0]\n",
      " [  0   0   0   0   0   0   0   0   0   0   0   0  39 148 229 253 253 253\n",
      "  250 182   0   0   0   0   0   0   0   0]\n",
      " [  0   0   0   0   0   0   0   0   0   0  24 114 221 253 253 253 253 201\n",
      "   78   0   0   0   0   0   0   0   0   0]\n",
      " [  0   0   0   0   0   0   0   0  23  66 213 253 253 253 253 198  81   2\n",
      "    0   0   0   0   0   0   0   0   0   0]\n",
      " [  0   0   0   0   0   0  18 171 219 253 253 253 253 195  80   9   0   0\n",
      "    0   0   0   0   0   0   0   0   0   0]\n",
      " [  0   0   0   0  55 172 226 253 253 253 253 244 133  11   0   0   0   0\n",
      "    0   0   0   0   0   0   0   0   0   0]\n",
      " [  0   0   0   0 136 253 253 253 212 135 132  16   0   0   0   0   0   0\n",
      "    0   0   0   0   0   0   0   0   0   0]\n",
      " [  0   0   0   0   0   0   0   0   0   0   0   0   0   0   0   0   0   0\n",
      "    0   0   0   0   0   0   0   0   0   0]\n",
      " [  0   0   0   0   0   0   0   0   0   0   0   0   0   0   0   0   0   0\n",
      "    0   0   0   0   0   0   0   0   0   0]\n",
      " [  0   0   0   0   0   0   0   0   0   0   0   0   0   0   0   0   0   0\n",
      "    0   0   0   0   0   0   0   0   0   0]]\n"
     ]
    }
   ],
   "source": [
    "print(x_train[0])"
   ]
  },
  {
   "cell_type": "code",
   "execution_count": 11,
   "metadata": {},
   "outputs": [],
   "source": [
    "X=np.reshape(x_train,(60000,784))\n",
    "Y=y_train"
   ]
  },
  {
   "cell_type": "code",
   "execution_count": 12,
   "metadata": {},
   "outputs": [
    {
     "name": "stdout",
     "output_type": "stream",
     "text": [
      "[  0   0   0   0   0   0   0   0   0   0   0   0   0   0   0   0   0   0\n",
      "   0   0   0   0   0   0   0   0   0   0   0   0   0   0   0   0   0   0\n",
      "   0   0   0   0   0   0   0   0   0   0   0   0   0   0   0   0   0   0\n",
      "   0   0   0   0   0   0   0   0   0   0   0   0   0   0   0   0   0   0\n",
      "   0   0   0   0   0   0   0   0   0   0   0   0   0   0   0   0   0   0\n",
      "   0   0   0   0   0   0   0   0   0   0   0   0   0   0   0   0   0   0\n",
      "   0   0   0   0   0   0   0   0   0   0   0   0   0   0   0   0   0   0\n",
      "   0   0   0   0   0   0   0   0   0   0   0   0   0   0   0   0   0   0\n",
      "   0   0   0   0   0   0   0   0   3  18  18  18 126 136 175  26 166 255\n",
      " 247 127   0   0   0   0   0   0   0   0   0   0   0   0  30  36  94 154\n",
      " 170 253 253 253 253 253 225 172 253 242 195  64   0   0   0   0   0   0\n",
      "   0   0   0   0   0  49 238 253 253 253 253 253 253 253 253 251  93  82\n",
      "  82  56  39   0   0   0   0   0   0   0   0   0   0   0   0  18 219 253\n",
      " 253 253 253 253 198 182 247 241   0   0   0   0   0   0   0   0   0   0\n",
      "   0   0   0   0   0   0   0   0  80 156 107 253 253 205  11   0  43 154\n",
      "   0   0   0   0   0   0   0   0   0   0   0   0   0   0   0   0   0   0\n",
      "   0  14   1 154 253  90   0   0   0   0   0   0   0   0   0   0   0   0\n",
      "   0   0   0   0   0   0   0   0   0   0   0   0   0 139 253 190   2   0\n",
      "   0   0   0   0   0   0   0   0   0   0   0   0   0   0   0   0   0   0\n",
      "   0   0   0   0   0  11 190 253  70   0   0   0   0   0   0   0   0   0\n",
      "   0   0   0   0   0   0   0   0   0   0   0   0   0   0   0   0  35 241\n",
      " 225 160 108   1   0   0   0   0   0   0   0   0   0   0   0   0   0   0\n",
      "   0   0   0   0   0   0   0   0   0  81 240 253 253 119  25   0   0   0\n",
      "   0   0   0   0   0   0   0   0   0   0   0   0   0   0   0   0   0   0\n",
      "   0   0  45 186 253 253 150  27   0   0   0   0   0   0   0   0   0   0\n",
      "   0   0   0   0   0   0   0   0   0   0   0   0   0  16  93 252 253 187\n",
      "   0   0   0   0   0   0   0   0   0   0   0   0   0   0   0   0   0   0\n",
      "   0   0   0   0   0   0   0 249 253 249  64   0   0   0   0   0   0   0\n",
      "   0   0   0   0   0   0   0   0   0   0   0   0   0   0  46 130 183 253\n",
      " 253 207   2   0   0   0   0   0   0   0   0   0   0   0   0   0   0   0\n",
      "   0   0   0   0  39 148 229 253 253 253 250 182   0   0   0   0   0   0\n",
      "   0   0   0   0   0   0   0   0   0   0   0   0  24 114 221 253 253 253\n",
      " 253 201  78   0   0   0   0   0   0   0   0   0   0   0   0   0   0   0\n",
      "   0   0  23  66 213 253 253 253 253 198  81   2   0   0   0   0   0   0\n",
      "   0   0   0   0   0   0   0   0   0   0  18 171 219 253 253 253 253 195\n",
      "  80   9   0   0   0   0   0   0   0   0   0   0   0   0   0   0   0   0\n",
      "  55 172 226 253 253 253 253 244 133  11   0   0   0   0   0   0   0   0\n",
      "   0   0   0   0   0   0   0   0   0   0 136 253 253 253 212 135 132  16\n",
      "   0   0   0   0   0   0   0   0   0   0   0   0   0   0   0   0   0   0\n",
      "   0   0   0   0   0   0   0   0   0   0   0   0   0   0   0   0   0   0\n",
      "   0   0   0   0   0   0   0   0   0   0   0   0   0   0   0   0   0   0\n",
      "   0   0   0   0   0   0   0   0   0   0   0   0   0   0   0   0   0   0\n",
      "   0   0   0   0   0   0   0   0   0   0   0   0   0   0   0   0   0   0\n",
      "   0   0   0   0   0   0   0   0   0   0]\n"
     ]
    }
   ],
   "source": [
    "print(X[0])"
   ]
  },
  {
   "cell_type": "code",
   "execution_count": 13,
   "metadata": {},
   "outputs": [],
   "source": [
    "X=X.astype(float)/255"
   ]
  },
  {
   "cell_type": "code",
   "execution_count": 14,
   "metadata": {},
   "outputs": [
    {
     "name": "stdout",
     "output_type": "stream",
     "text": [
      "[0.         0.         0.         0.         0.         0.\n",
      " 0.         0.         0.         0.         0.         0.\n",
      " 0.         0.         0.         0.         0.         0.\n",
      " 0.         0.         0.         0.         0.         0.\n",
      " 0.         0.         0.         0.         0.         0.\n",
      " 0.         0.         0.         0.         0.         0.\n",
      " 0.         0.         0.         0.         0.         0.\n",
      " 0.         0.         0.         0.         0.         0.\n",
      " 0.         0.         0.         0.         0.         0.\n",
      " 0.         0.         0.         0.         0.         0.\n",
      " 0.         0.         0.         0.         0.         0.\n",
      " 0.         0.         0.         0.         0.         0.\n",
      " 0.         0.         0.         0.         0.         0.\n",
      " 0.         0.         0.         0.         0.         0.\n",
      " 0.         0.         0.         0.         0.         0.\n",
      " 0.         0.         0.         0.         0.         0.\n",
      " 0.         0.         0.         0.         0.         0.\n",
      " 0.         0.         0.         0.         0.         0.\n",
      " 0.         0.         0.         0.         0.         0.\n",
      " 0.         0.         0.         0.         0.         0.\n",
      " 0.         0.         0.         0.         0.         0.\n",
      " 0.         0.         0.         0.         0.         0.\n",
      " 0.         0.         0.         0.         0.         0.\n",
      " 0.         0.         0.         0.         0.         0.\n",
      " 0.         0.         0.         0.         0.         0.\n",
      " 0.         0.         0.01176471 0.07058824 0.07058824 0.07058824\n",
      " 0.49411765 0.53333333 0.68627451 0.10196078 0.65098039 1.\n",
      " 0.96862745 0.49803922 0.         0.         0.         0.\n",
      " 0.         0.         0.         0.         0.         0.\n",
      " 0.         0.         0.11764706 0.14117647 0.36862745 0.60392157\n",
      " 0.66666667 0.99215686 0.99215686 0.99215686 0.99215686 0.99215686\n",
      " 0.88235294 0.6745098  0.99215686 0.94901961 0.76470588 0.25098039\n",
      " 0.         0.         0.         0.         0.         0.\n",
      " 0.         0.         0.         0.         0.         0.19215686\n",
      " 0.93333333 0.99215686 0.99215686 0.99215686 0.99215686 0.99215686\n",
      " 0.99215686 0.99215686 0.99215686 0.98431373 0.36470588 0.32156863\n",
      " 0.32156863 0.21960784 0.15294118 0.         0.         0.\n",
      " 0.         0.         0.         0.         0.         0.\n",
      " 0.         0.         0.         0.07058824 0.85882353 0.99215686\n",
      " 0.99215686 0.99215686 0.99215686 0.99215686 0.77647059 0.71372549\n",
      " 0.96862745 0.94509804 0.         0.         0.         0.\n",
      " 0.         0.         0.         0.         0.         0.\n",
      " 0.         0.         0.         0.         0.         0.\n",
      " 0.         0.         0.31372549 0.61176471 0.41960784 0.99215686\n",
      " 0.99215686 0.80392157 0.04313725 0.         0.16862745 0.60392157\n",
      " 0.         0.         0.         0.         0.         0.\n",
      " 0.         0.         0.         0.         0.         0.\n",
      " 0.         0.         0.         0.         0.         0.\n",
      " 0.         0.05490196 0.00392157 0.60392157 0.99215686 0.35294118\n",
      " 0.         0.         0.         0.         0.         0.\n",
      " 0.         0.         0.         0.         0.         0.\n",
      " 0.         0.         0.         0.         0.         0.\n",
      " 0.         0.         0.         0.         0.         0.\n",
      " 0.         0.54509804 0.99215686 0.74509804 0.00784314 0.\n",
      " 0.         0.         0.         0.         0.         0.\n",
      " 0.         0.         0.         0.         0.         0.\n",
      " 0.         0.         0.         0.         0.         0.\n",
      " 0.         0.         0.         0.         0.         0.04313725\n",
      " 0.74509804 0.99215686 0.2745098  0.         0.         0.\n",
      " 0.         0.         0.         0.         0.         0.\n",
      " 0.         0.         0.         0.         0.         0.\n",
      " 0.         0.         0.         0.         0.         0.\n",
      " 0.         0.         0.         0.         0.1372549  0.94509804\n",
      " 0.88235294 0.62745098 0.42352941 0.00392157 0.         0.\n",
      " 0.         0.         0.         0.         0.         0.\n",
      " 0.         0.         0.         0.         0.         0.\n",
      " 0.         0.         0.         0.         0.         0.\n",
      " 0.         0.         0.         0.31764706 0.94117647 0.99215686\n",
      " 0.99215686 0.46666667 0.09803922 0.         0.         0.\n",
      " 0.         0.         0.         0.         0.         0.\n",
      " 0.         0.         0.         0.         0.         0.\n",
      " 0.         0.         0.         0.         0.         0.\n",
      " 0.         0.         0.17647059 0.72941176 0.99215686 0.99215686\n",
      " 0.58823529 0.10588235 0.         0.         0.         0.\n",
      " 0.         0.         0.         0.         0.         0.\n",
      " 0.         0.         0.         0.         0.         0.\n",
      " 0.         0.         0.         0.         0.         0.\n",
      " 0.         0.0627451  0.36470588 0.98823529 0.99215686 0.73333333\n",
      " 0.         0.         0.         0.         0.         0.\n",
      " 0.         0.         0.         0.         0.         0.\n",
      " 0.         0.         0.         0.         0.         0.\n",
      " 0.         0.         0.         0.         0.         0.\n",
      " 0.         0.97647059 0.99215686 0.97647059 0.25098039 0.\n",
      " 0.         0.         0.         0.         0.         0.\n",
      " 0.         0.         0.         0.         0.         0.\n",
      " 0.         0.         0.         0.         0.         0.\n",
      " 0.         0.         0.18039216 0.50980392 0.71764706 0.99215686\n",
      " 0.99215686 0.81176471 0.00784314 0.         0.         0.\n",
      " 0.         0.         0.         0.         0.         0.\n",
      " 0.         0.         0.         0.         0.         0.\n",
      " 0.         0.         0.         0.         0.15294118 0.58039216\n",
      " 0.89803922 0.99215686 0.99215686 0.99215686 0.98039216 0.71372549\n",
      " 0.         0.         0.         0.         0.         0.\n",
      " 0.         0.         0.         0.         0.         0.\n",
      " 0.         0.         0.         0.         0.         0.\n",
      " 0.09411765 0.44705882 0.86666667 0.99215686 0.99215686 0.99215686\n",
      " 0.99215686 0.78823529 0.30588235 0.         0.         0.\n",
      " 0.         0.         0.         0.         0.         0.\n",
      " 0.         0.         0.         0.         0.         0.\n",
      " 0.         0.         0.09019608 0.25882353 0.83529412 0.99215686\n",
      " 0.99215686 0.99215686 0.99215686 0.77647059 0.31764706 0.00784314\n",
      " 0.         0.         0.         0.         0.         0.\n",
      " 0.         0.         0.         0.         0.         0.\n",
      " 0.         0.         0.         0.         0.07058824 0.67058824\n",
      " 0.85882353 0.99215686 0.99215686 0.99215686 0.99215686 0.76470588\n",
      " 0.31372549 0.03529412 0.         0.         0.         0.\n",
      " 0.         0.         0.         0.         0.         0.\n",
      " 0.         0.         0.         0.         0.         0.\n",
      " 0.21568627 0.6745098  0.88627451 0.99215686 0.99215686 0.99215686\n",
      " 0.99215686 0.95686275 0.52156863 0.04313725 0.         0.\n",
      " 0.         0.         0.         0.         0.         0.\n",
      " 0.         0.         0.         0.         0.         0.\n",
      " 0.         0.         0.         0.         0.53333333 0.99215686\n",
      " 0.99215686 0.99215686 0.83137255 0.52941176 0.51764706 0.0627451\n",
      " 0.         0.         0.         0.         0.         0.\n",
      " 0.         0.         0.         0.         0.         0.\n",
      " 0.         0.         0.         0.         0.         0.\n",
      " 0.         0.         0.         0.         0.         0.\n",
      " 0.         0.         0.         0.         0.         0.\n",
      " 0.         0.         0.         0.         0.         0.\n",
      " 0.         0.         0.         0.         0.         0.\n",
      " 0.         0.         0.         0.         0.         0.\n",
      " 0.         0.         0.         0.         0.         0.\n",
      " 0.         0.         0.         0.         0.         0.\n",
      " 0.         0.         0.         0.         0.         0.\n",
      " 0.         0.         0.         0.         0.         0.\n",
      " 0.         0.         0.         0.         0.         0.\n",
      " 0.         0.         0.         0.         0.         0.\n",
      " 0.         0.         0.         0.         0.         0.\n",
      " 0.         0.         0.         0.         0.         0.\n",
      " 0.         0.         0.         0.        ]\n"
     ]
    }
   ],
   "source": [
    "print(X[0])"
   ]
  },
  {
   "cell_type": "code",
   "execution_count": 15,
   "metadata": {},
   "outputs": [],
   "source": [
    "temp=np.zeros(10)"
   ]
  },
  {
   "cell_type": "code",
   "execution_count": 16,
   "metadata": {},
   "outputs": [],
   "source": [
    "Xtrain=np.zeros(shape=(1000,784))\n",
    "Ytrain=np.zeros(1000)"
   ]
  },
  {
   "cell_type": "code",
   "execution_count": 17,
   "metadata": {},
   "outputs": [],
   "source": [
    "i=0\n",
    "for j in range(Y.size):\n",
    "    if np.sum(temp)==1000:\n",
    "        break\n",
    "    if Y[j]==0 and temp[0]!=100:\n",
    "        temp[0]=temp[0]+1\n",
    "        Xtrain[i]=X[j]\n",
    "        Ytrain[i]=Y[j]\n",
    "        i=i+1\n",
    "    elif Y[j]==1 and temp[1]!=100:\n",
    "        temp[1]=temp[1]+1\n",
    "        Xtrain[i]=X[j]\n",
    "        Ytrain[i]=Y[j]\n",
    "        i=i+1\n",
    "    elif Y[j]==2 and temp[2]!=100:\n",
    "        temp[2]=temp[2]+1\n",
    "        Xtrain[i]=X[j]\n",
    "        Ytrain[i]=Y[j]\n",
    "        i=i+1\n",
    "    elif Y[j]==3 and temp[3]!=100:\n",
    "        temp[3]=temp[3]+1\n",
    "        Xtrain[i]=X[j]\n",
    "        Ytrain[i]=Y[j]\n",
    "        i=i+1\n",
    "    elif Y[j]==4 and temp[4]!=100:\n",
    "        temp[4]=temp[4]+1\n",
    "        Xtrain[i]=X[j]\n",
    "        Ytrain[i]=Y[j]\n",
    "        i=i+1\n",
    "    elif Y[j]==5 and temp[5]!=100:\n",
    "        temp[5]=temp[5]+1\n",
    "        Xtrain[i]=X[j]\n",
    "        Ytrain[i]=Y[j]\n",
    "        i=i+1\n",
    "    elif Y[j]==6 and temp[6]!=100:\n",
    "        temp[6]=temp[6]+1\n",
    "        Xtrain[i]=X[j]\n",
    "        Ytrain[i]=Y[j]\n",
    "        i=i+1\n",
    "    elif Y[j]==7 and temp[7]!=100:\n",
    "        temp[7]=temp[7]+1\n",
    "        Xtrain[i]=X[j]\n",
    "        Ytrain[i]=Y[j]\n",
    "        i=i+1\n",
    "    elif Y[j]==8 and temp[8]!=100:\n",
    "        temp[8]=temp[8]+1\n",
    "        Xtrain[i]=X[j]\n",
    "        Ytrain[i]=Y[j]\n",
    "        i=i+1\n",
    "    elif Y[j]==9 and temp[9]!=100:\n",
    "        temp[9]=temp[9]+1\n",
    "        Xtrain[i]=X[j]\n",
    "        Ytrain[i]=Y[j]\n",
    "        i=i+1\n",
    "    \n",
    "        \n",
    "        "
   ]
  },
  {
   "cell_type": "code",
   "execution_count": 37,
   "metadata": {},
   "outputs": [
    {
     "name": "stdout",
     "output_type": "stream",
     "text": [
      "[5. 0. 4. 1. 9. 2. 1. 3. 1. 4. 3. 5. 3. 6. 1. 7. 2. 8. 6. 9. 4. 0. 9. 1.\n",
      " 1. 2. 4. 3. 2. 7. 3. 8. 6. 9. 0. 5. 6. 0. 7. 6. 1. 8. 7. 9. 3. 9. 8. 5.\n",
      " 9. 3. 3. 0. 7. 4. 9. 8. 0. 9. 4. 1. 4. 4. 6. 0. 4. 5. 6. 1. 0. 0. 1. 7.\n",
      " 1. 6. 3. 0. 2. 1. 1. 7. 9. 0. 2. 6. 7. 8. 3. 9. 0. 4. 6. 7. 4. 6. 8. 0.\n",
      " 7. 8. 3. 1. 5. 7. 1. 7. 1. 1. 6. 3. 0. 2. 9. 3. 1. 1. 0. 4. 9. 2. 0. 0.\n",
      " 2. 0. 2. 7. 1. 8. 6. 4. 1. 6. 3. 4. 5. 9. 1. 3. 3. 8. 5. 4. 7. 7. 4. 2.\n",
      " 8. 5. 8. 6. 7. 3. 4. 6. 1. 9. 9. 6. 0. 3. 7. 2. 8. 2. 9. 4. 4. 6. 4. 9.\n",
      " 7. 0. 9. 2. 9. 5. 1. 5. 9. 1. 2. 3. 2. 3. 5. 9. 1. 7. 6. 2. 8. 2. 2. 5.\n",
      " 0. 7. 4. 9. 7. 8. 3. 2. 1. 1. 8. 3. 6. 1. 0. 3. 1. 0. 0. 1. 7. 2. 7. 3.\n",
      " 0. 4. 6. 5. 2. 6. 4. 7. 1. 8. 9. 9. 3. 0. 7. 1. 0. 2. 0. 3. 5. 4. 6. 5.\n",
      " 8. 6. 3. 7. 5. 8. 0. 9. 1. 0. 3. 1. 2. 2. 3. 3. 6. 4. 7. 5. 0. 6. 2. 7.\n",
      " 9. 8. 5. 9. 2. 1. 1. 4. 4. 5. 6. 4. 1. 2. 5. 3. 9. 3. 9. 0. 5. 9. 6. 5.\n",
      " 7. 4. 1. 3. 4. 0. 4. 8. 0. 4. 3. 6. 8. 7. 6. 0. 9. 7. 5. 7. 2. 1. 1. 6.\n",
      " 8. 9. 4. 1. 5. 2. 2. 9. 0. 3. 9. 6. 7. 2. 0. 3. 5. 4. 3. 6. 5. 8. 9. 5.\n",
      " 4. 7. 4. 2. 7. 3. 4. 8. 9. 1. 9. 2. 8. 7. 9. 1. 8. 7. 4. 1. 3. 1. 1. 0.\n",
      " 2. 3. 9. 4. 9. 2. 1. 6. 8. 4. 7. 7. 4. 4. 9. 2. 5. 7. 2. 4. 4. 2. 1. 9.\n",
      " 7. 2. 8. 7. 6. 9. 2. 2. 3. 8. 1. 6. 5. 1. 1. 0. 2. 6. 4. 5. 8. 3. 1. 5.\n",
      " 1. 9. 2. 7. 4. 4. 4. 8. 1. 5. 8. 9. 5. 6. 7. 9. 9. 3. 7. 0. 9. 0. 6. 6.\n",
      " 2. 3. 9. 0. 7. 5. 4. 8. 0. 9. 4. 1. 2. 8. 7. 1. 2. 6. 1. 0. 3. 0. 1. 1.\n",
      " 8. 2. 0. 3. 9. 4. 0. 5. 0. 6. 1. 7. 7. 8. 1. 9. 2. 0. 5. 1. 2. 2. 7. 3.\n",
      " 5. 4. 9. 7. 1. 8. 3. 9. 6. 0. 3. 1. 1. 2. 6. 3. 5. 7. 6. 8. 3. 9. 5. 8.\n",
      " 5. 7. 6. 1. 1. 3. 1. 7. 5. 5. 5. 2. 5. 8. 7. 0. 9. 7. 7. 5. 0. 9. 0. 0.\n",
      " 8. 9. 2. 4. 8. 1. 6. 1. 6. 5. 1. 8. 3. 4. 0. 5. 5. 8. 3. 6. 2. 3. 9. 2.\n",
      " 1. 1. 5. 2. 1. 3. 2. 8. 7. 3. 7. 2. 4. 6. 9. 7. 2. 4. 2. 8. 1. 1. 3. 8.\n",
      " 4. 0. 6. 5. 9. 3. 0. 9. 2. 4. 7. 1. 2. 9. 4. 2. 6. 1. 8. 9. 0. 6. 6. 7.\n",
      " 9. 9. 8. 0. 1. 4. 4. 6. 7. 1. 5. 7. 0. 3. 5. 8. 4. 7. 1. 2. 5. 9. 5. 6.\n",
      " 7. 5. 9. 8. 8. 3. 6. 9. 7. 0. 7. 5. 7. 1. 1. 0. 7. 9. 2. 3. 7. 3. 2. 4.\n",
      " 1. 6. 2. 7. 5. 5. 7. 4. 0. 2. 6. 3. 6. 4. 0. 4. 2. 6. 0. 0. 0. 0. 3. 1.\n",
      " 6. 2. 2. 3. 1. 4. 1. 5. 4. 6. 4. 7. 2. 8. 7. 9. 2. 0. 5. 1. 4. 2. 8. 3.\n",
      " 2. 4. 1. 5. 4. 6. 0. 7. 9. 8. 4. 9. 8. 0. 1. 1. 0. 2. 2. 3. 2. 4. 4. 5.\n",
      " 8. 6. 5. 7. 7. 8. 8. 9. 7. 4. 7. 3. 2. 0. 8. 6. 8. 6. 1. 6. 8. 9. 4. 0.\n",
      " 9. 0. 4. 1. 5. 4. 7. 5. 3. 7. 4. 9. 8. 5. 8. 6. 3. 8. 6. 9. 9. 1. 8. 3.\n",
      " 5. 8. 6. 5. 9. 7. 2. 5. 0. 8. 5. 1. 1. 0. 9. 1. 8. 6. 7. 0. 9. 3. 0. 8.\n",
      " 8. 9. 6. 7. 8. 4. 7. 5. 9. 2. 6. 7. 4. 5. 9. 2. 3. 1. 6. 3. 9. 2. 2. 5.\n",
      " 6. 8. 0. 7. 7. 1. 9. 8. 7. 0. 9. 9. 4. 6. 2. 8. 5. 4. 5. 5. 7. 3. 6. 4.\n",
      " 3. 2. 5. 6. 4. 4. 0. 4. 4. 6. 7. 2. 4. 3. 3. 8. 0. 0. 3. 2. 2. 9. 8. 2.\n",
      " 3. 7. 0. 0. 2. 3. 3. 8. 4. 3. 5. 7. 6. 4. 7. 7. 8. 5. 9. 7. 0. 3. 6. 2.\n",
      " 4. 3. 4. 4. 7. 5. 9. 6. 9. 0. 7. 4. 2. 7. 3. 6. 5. 8. 4. 5. 5. 2. 5. 6.\n",
      " 8. 5. 8. 4. 0. 9. 9. 2. 9. 8. 4. 2. 6. 9. 0. 6. 4. 2. 5. 0. 0. 3. 6. 5.\n",
      " 0. 6. 5. 8. 5. 0. 3. 5. 8. 6. 9. 3. 8. 6. 0. 9. 3. 0. 5. 6. 2. 3. 6. 0.\n",
      " 3. 6. 0. 3. 8. 2. 8. 0. 8. 0. 6. 3. 5. 8. 8. 5. 3. 5. 6. 8. 3. 8. 5. 8.\n",
      " 8. 8. 3. 6. 5. 3. 8. 5. 5. 6. 6. 3. 6. 8. 5. 8.]\n"
     ]
    }
   ],
   "source": [
    "print(Ytrain)"
   ]
  },
  {
   "cell_type": "code",
   "execution_count": 18,
   "metadata": {},
   "outputs": [
    {
     "name": "stdout",
     "output_type": "stream",
     "text": [
      "4500.0\n"
     ]
    }
   ],
   "source": [
    "print(np.sum(Ytrain))"
   ]
  },
  {
   "cell_type": "code",
   "execution_count": 29,
   "metadata": {},
   "outputs": [],
   "source": [
    "noofclus=20\n",
    "cluster=np.random.rand(noofclus,784)\n",
    "def calcdist(arr1,arr2):\n",
    "    temp2=arr1-arr2\n",
    "    temp2=np.square(temp2)\n",
    "    sumofsquares=np.sum(temp2)\n",
    "    dist=np.sqrt(sumofsquares)\n",
    "    return dist\n",
    "clusterass=np.zeros(1000)\n",
    "clusters=[]\n",
    "for i in range(noofclus):\n",
    "    temp=[]\n",
    "    clusters.append(temp)\n",
    "    \n",
    "def costfunc(Xtrain,cluster,clusterass):\n",
    "    jcost=0\n",
    "    for i in range(1000):\n",
    "        jcost = jcost+np.square(calcdist(Xtrain[i],cluster[int(clusterass[i]-1)]))\n",
    "    jcost=jcost/1000\n",
    "    return jcost\n",
    "    \n",
    "    "
   ]
  },
  {
   "cell_type": "code",
   "execution_count": 149,
   "metadata": {},
   "outputs": [
    {
     "name": "stdout",
     "output_type": "stream",
     "text": [
      "0 48.45661288592907\n",
      "1 41.49811341580077\n",
      "2 38.916446224343446\n",
      "3 37.78580705676304\n",
      "4 37.53220823165851\n",
      "5 37.418921910035706\n",
      "6 37.32338607782007\n",
      "7 37.22788775082016\n",
      "8 37.146217409395106\n",
      "9 37.05904667825926\n",
      "10 36.99396228149724\n",
      "11 36.96100420611618\n",
      "12 36.93015713730668\n",
      "13 36.89617182064925\n",
      "14 36.87114767336411\n",
      "15 36.84639297398294\n",
      "16 36.83394738344907\n",
      "17 36.82709086242175\n",
      "18 36.8214297817832\n",
      "19 36.818176607851655\n",
      "20 36.81386995256425\n",
      "21 36.8102498454759\n",
      "22 36.79468528162102\n",
      "23 36.75614584012862\n",
      "24 36.72691836836182\n",
      "25 36.714681000832655\n",
      "26 36.70254268275139\n",
      "27 36.67889642635126\n",
      "28 36.6653762686073\n",
      "29 36.65589538384154\n",
      "30 36.64764183604188\n",
      "31 36.644359366964565\n",
      "32 36.64181062582164\n",
      "33 36.63806222530469\n",
      "34 36.636704997280695\n",
      "35 36.636704997280695\n"
     ]
    }
   ],
   "source": [
    "noofclus=20\n",
    "cluster=np.random.rand(noofclus,784)\n",
    "def calcdist(arr1,arr2):\n",
    "    temp2=arr1-arr2\n",
    "    temp2=np.square(temp2)\n",
    "    sumofsquares=np.sum(temp2)\n",
    "    dist=np.sqrt(sumofsquares)\n",
    "    return dist\n",
    "clusterass=np.zeros(1000)\n",
    "clusters=[]\n",
    "for i in range(noofclus):\n",
    "    temp=[]\n",
    "    clusters.append(temp)\n",
    "    \n",
    "def costfunc(Xtrain,cluster,clusterass):\n",
    "    jcost=0\n",
    "    for i in range(1000):\n",
    "        jcost = jcost+np.square(calcdist(Xtrain[i],cluster[int(clusterass[i]-1)]))\n",
    "    jcost=jcost/1000\n",
    "    return jcost\n",
    "Jprev=10000000\n",
    "Jcur=0\n",
    "for i in range(100):\n",
    "    \n",
    "    for j in range(1000):\n",
    "        mindist=10000000\n",
    "        for k in range(noofclus):\n",
    "            cdist=calcdist(Xtrain[j],cluster[k])\n",
    "            if(cdist<mindist):\n",
    "                mindist=cdist\n",
    "                \n",
    "                clusterass[j]=k+1\n",
    "         \n",
    "        for k in range(noofclus):\n",
    "            if j in clusters[k]:\n",
    "                clusters[k].remove(j)\n",
    "        clusters[int(clusterass[j]-1)].append(j)\n",
    "    \n",
    "    for l in range(noofclus):\n",
    "        temparr=np.zeros(784)\n",
    "        for m in range(len(clusters[l])):\n",
    "            temparr=np.add(temparr,Xtrain[clusters[l][m]])\n",
    "        if (len(clusters[l]) != 0):\n",
    "            temparr=temparr/len(clusters[l])\n",
    "            cluster[l]=temparr\n",
    "    Jcur=costfunc(Xtrain,cluster,clusterass)\n",
    "    print(i,Jcur)\n",
    "    if(abs(Jcur-Jprev)<0.00000000001):\n",
    "        break\n",
    "    Jprev=Jcur\n",
    "   \n",
    "   \n",
    "    \n",
    "        \n",
    "\n",
    "            \n",
    "            "
   ]
  },
  {
   "cell_type": "code",
   "execution_count": 103,
   "metadata": {},
   "outputs": [
    {
     "data": {
      "text/plain": [
       "<matplotlib.image.AxesImage at 0x1c23d817438>"
      ]
     },
     "execution_count": 103,
     "metadata": {},
     "output_type": "execute_result"
    },
    {
     "data": {
      "image/png": "[encoded data removed]",
      "text/plain": [
       "<Figure size 432x288 with 1 Axes>"
      ]
     },
     "metadata": {
      "needs_background": "light"
     },
     "output_type": "display_data"
    }
   ],
   "source": [
    "\n",
    "arr=cluster[19]\n",
    "arr2=np.reshape(arr,(28,28))\n",
    "arr2=np.around(arr2*255)\n",
    "plt.imshow(arr2,cmap='gray')\n",
    "    "
   ]
  },
  {
   "cell_type": "code",
   "execution_count": 150,
   "metadata": {},
   "outputs": [
    {
     "name": "stdout",
     "output_type": "stream",
     "text": [
      "0 (array([0, 1, 2, 3, 4, 5, 6, 7, 8, 9], dtype=int64),) 0.0\n",
      "1 (array([1], dtype=int64),) 96.0\n",
      "2 (array([8], dtype=int64),) 61.0\n",
      "3 (array([0, 1, 2, 3, 4, 5, 6, 7, 8, 9], dtype=int64),) 0.0\n",
      "4 (array([0, 1, 2, 3, 4, 5, 6, 7, 8, 9], dtype=int64),) 0.0\n",
      "5 (array([0, 1, 2, 3, 4, 5, 6, 7, 8, 9], dtype=int64),) 0.0\n",
      "6 (array([0], dtype=int64),) 45.0\n",
      "7 (array([0, 1, 2, 3, 4, 5, 6, 7, 8, 9], dtype=int64),) 0.0\n",
      "8 (array([0, 1, 2, 3, 4, 5, 6, 7, 8, 9], dtype=int64),) 0.0\n",
      "9 (array([0, 1, 2, 3, 4, 5, 6, 7, 8, 9], dtype=int64),) 0.0\n",
      "10 (array([4], dtype=int64),) 30.0\n",
      "11 (array([9], dtype=int64),) 57.0\n",
      "12 (array([0, 1, 2, 3, 4, 5, 6, 7, 8, 9], dtype=int64),) 0.0\n",
      "13 (array([7], dtype=int64),) 44.0\n",
      "14 (array([5], dtype=int64),) 37.0\n",
      "15 (array([3], dtype=int64),) 70.0\n",
      "16 (array([0], dtype=int64),) 43.0\n",
      "17 (array([6], dtype=int64),) 74.0\n",
      "18 (array([0, 1, 2, 3, 4, 5, 6, 7, 8, 9], dtype=int64),) 0.0\n",
      "19 (array([2], dtype=int64),) 51.0\n"
     ]
    }
   ],
   "source": [
    "\n",
    "for k in range(20):\n",
    "    nums=np.zeros(10)\n",
    "    for i in clusters[k]:\n",
    "        if(Ytrain[i]==0):\n",
    "            nums[0]=nums[0]+1\n",
    "        if(Ytrain[i]==1):\n",
    "            nums[1]=nums[1]+1\n",
    "        if(Ytrain[i]==2):\n",
    "            nums[2]=nums[2]+1\n",
    "        if(Ytrain[i]==3):\n",
    "            nums[3]=nums[3]+1\n",
    "        if(Ytrain[i]==4):\n",
    "            nums[4]=nums[4]+1\n",
    "        if(Ytrain[i]==5):\n",
    "            nums[5]=nums[5]+1\n",
    "        if(Ytrain[i]==6):\n",
    "            nums[6]=nums[6]+1\n",
    "        if(Ytrain[i]==7):\n",
    "            nums[7]=nums[7]+1\n",
    "        if(Ytrain[i]==8):\n",
    "            nums[8]=nums[8]+1\n",
    "        if(Ytrain[i]==9):\n",
    "            nums[9]=nums[9]+1\n",
    "    maxElement = np.amax(nums)\n",
    "    result = np.where(nums == np.amax(nums))\n",
    "    print(k,result , maxElement)\n",
    "    \n",
    "        \n"
   ]
  },
  {
   "cell_type": "code",
   "execution_count": 105,
   "metadata": {},
   "outputs": [
    {
     "name": "stdout",
     "output_type": "stream",
     "text": [
      "Accuracy is 64\n"
     ]
    }
   ],
   "source": [
    "valuesclus=[7,-1,7,-1,-1,1,-1,-1,9,4,4,-1,6,0,6,0,-1,2,3,5]\n",
    "X_test=x_test[0:50,:,:]\n",
    "Xtest=np.reshape(X_test,(50,784))\n",
    "Ytest=y_test[0:50]\n",
    "Xtest=Xtest/255\n",
    "clustestass=np.zeros(50)\n",
    "for i in range(50):\n",
    "    mindist=1000000\n",
    "    for j in range(noofclus):\n",
    "        dist=calcdist(Xtest[i],cluster[j])\n",
    "        if dist<mindist:\n",
    "            mindist=dist\n",
    "            clusterass[i]=j+1\n",
    "count=0\n",
    "for i in range(50):\n",
    "    if valuesclus[int(clusterass[i]-1)]==Ytest[i]:\n",
    "        count=count+1\n",
    "print('Accuracy is',count*2)"
   ]
  },
  {
   "cell_type": "code",
   "execution_count": 46,
   "metadata": {},
   "outputs": [],
   "source": [
    "from random import randrange\n",
    "random=[]\n",
    "noofclus=16\n",
    "i=0\n",
    "while i!=noofclus:\n",
    "    num=randrange(1000)\n",
    "    if num not in random:\n",
    "        random.append(num)\n",
    "        i=i+1\n",
    "cluster2=np.zeros(shape=(noofclus,784))\n",
    "for i in range(noofclus):\n",
    "    cluster2[i]=Xtrain[random[i]]"
   ]
  },
  {
   "cell_type": "code",
   "execution_count": 47,
   "metadata": {},
   "outputs": [],
   "source": [
    "def calcdist(arr1,arr2):\n",
    "    temp2=arr1-arr2\n",
    "    temp2=np.square(temp2)\n",
    "    sumofsquares=np.sum(temp2)\n",
    "    dist=np.sqrt(sumofsquares)\n",
    "    return dist\n",
    "clusterass2=np.zeros(1000)\n",
    "clusters2=[]\n",
    "for i in range(noofclus):\n",
    "    temp=[]\n",
    "    clusters2.append(temp)\n",
    "    \n",
    "def costfunc(Xtrain,cluster2,clusterass2):\n",
    "    jcost=0\n",
    "    for i in range(1000):\n",
    "        jcost = jcost+np.square(calcdist(Xtrain[i],cluster2[int(clusterass2[i]-1)]))\n",
    "    jcost=jcost/1000\n",
    "    return jcost\n",
    "    \n",
    "    \n",
    "    "
   ]
  },
  {
   "cell_type": "code",
   "execution_count": 146,
   "metadata": {
    "scrolled": true
   },
   "outputs": [
    {
     "name": "stdout",
     "output_type": "stream",
     "text": [
      "0 37.260756515696315\n",
      "1 34.554543086230886\n",
      "2 33.43378832667047\n",
      "3 32.971318742722026\n",
      "4 32.73250720434004\n",
      "5 32.56995872787045\n",
      "6 32.48498353715926\n",
      "7 32.38568688978501\n",
      "8 32.336894502333294\n",
      "9 32.31696783964882\n",
      "10 32.310188976090224\n",
      "11 32.30796890998373\n",
      "12 32.300520504147926\n",
      "13 32.28463464063758\n",
      "14 32.28463464063758\n"
     ]
    }
   ],
   "source": [
    "from random import randrange\n",
    "random=[]\n",
    "noofclus=20\n",
    "i=0\n",
    "while i!=noofclus:\n",
    "    num=randrange(1000)\n",
    "    if num not in random:\n",
    "        random.append(num)\n",
    "        i=i+1\n",
    "cluster2=np.zeros(shape=(noofclus,784))\n",
    "for i in range(noofclus):\n",
    "    cluster2[i]=Xtrain[random[i]]\n",
    "def calcdist(arr1,arr2):\n",
    "    temp2=arr1-arr2\n",
    "    temp2=np.square(temp2)\n",
    "    sumofsquares=np.sum(temp2)\n",
    "    dist=np.sqrt(sumofsquares)\n",
    "    return dist\n",
    "clusterass2=np.zeros(1000)\n",
    "clusters2=[]\n",
    "for i in range(noofclus):\n",
    "    temp=[]\n",
    "    clusters2.append(temp)\n",
    "    \n",
    "def costfunc(Xtrain,cluster2,clusterass2):\n",
    "    jcost=0\n",
    "    for i in range(1000):\n",
    "        jcost = jcost+np.square(calcdist(Xtrain[i],cluster2[int(clusterass2[i]-1)]))\n",
    "    jcost=jcost/1000\n",
    "    return jcost\n",
    "Jprev=10000000\n",
    "Jcur=0\n",
    "for i in range(100):\n",
    "    \n",
    "    for j in range(1000):\n",
    "        mindist=10000000\n",
    "        for k in range(noofclus):\n",
    "            cdist=calcdist(Xtrain[j],cluster2[k])\n",
    "            if(cdist<mindist):\n",
    "                mindist=cdist\n",
    "                \n",
    "                clusterass2[j]=k+1\n",
    "         \n",
    "        for k in range(noofclus):\n",
    "            if j in clusters2[k]:\n",
    "                clusters2[k].remove(j)\n",
    "        clusters2[int(clusterass2[j]-1)].append(j)\n",
    "    \n",
    "    for l in range(noofclus):\n",
    "        temparr=np.zeros(784)\n",
    "        for m in range(len(clusters2[l])):\n",
    "            temparr=np.add(temparr,Xtrain[clusters2[l][m]])\n",
    "        if (len(clusters2[l]) != 0):\n",
    "            temparr=temparr/len(clusters2[l])\n",
    "            cluster2[l]=temparr\n",
    "    Jcur=costfunc(Xtrain,cluster2,clusterass2)\n",
    "    print(i,Jcur)\n",
    "    if(abs(Jcur-Jprev)<0.00000000001):\n",
    "        break\n",
    "    Jprev=Jcur\n",
    "   "
   ]
  },
  {
   "cell_type": "code",
   "execution_count": 140,
   "metadata": {},
   "outputs": [
    {
     "data": {
      "text/plain": [
       "<matplotlib.image.AxesImage at 0x1c23ef694a8>"
      ]
     },
     "execution_count": 140,
     "metadata": {},
     "output_type": "execute_result"
    },
    {
     "data": {
      "image/png": "[encoded data removed]",
      "text/plain": [
       "<Figure size 432x288 with 1 Axes>"
      ]
     },
     "metadata": {
      "needs_background": "light"
     },
     "output_type": "display_data"
    }
   ],
   "source": [
    "\n",
    "arr=cluster2[19]\n",
    "arr2=np.reshape(arr,(28,28))\n",
    "arr2=np.around(arr2*255)\n",
    "plt.imshow(arr2,cmap='gray')\n",
    "    "
   ]
  },
  {
   "cell_type": "code",
   "execution_count": 147,
   "metadata": {},
   "outputs": [
    {
     "name": "stdout",
     "output_type": "stream",
     "text": [
      "0 (array([8], dtype=int64),) 16.0\n",
      "1 (array([0], dtype=int64),) 29.0\n",
      "2 (array([7], dtype=int64),) 45.0\n",
      "3 (array([2], dtype=int64),) 27.0\n",
      "4 (array([4], dtype=int64),) 27.0\n",
      "5 (array([4], dtype=int64),) 48.0\n",
      "6 (array([0], dtype=int64),) 55.0\n",
      "7 (array([3], dtype=int64),) 40.0\n",
      "8 (array([9], dtype=int64),) 9.0\n",
      "9 (array([5], dtype=int64),) 31.0\n",
      "10 (array([8], dtype=int64),) 52.0\n",
      "11 (array([9], dtype=int64),) 46.0\n",
      "12 (array([6], dtype=int64),) 25.0\n",
      "13 (array([1], dtype=int64),) 45.0\n",
      "14 (array([5], dtype=int64),) 36.0\n",
      "15 (array([1], dtype=int64),) 49.0\n",
      "16 (array([6], dtype=int64),) 30.0\n",
      "17 (array([6], dtype=int64),) 30.0\n",
      "18 (array([3], dtype=int64),) 30.0\n",
      "19 (array([2], dtype=int64),) 42.0\n"
     ]
    }
   ],
   "source": [
    "valuesclus=[]\n",
    "for k in range(20):\n",
    "    nums=np.zeros(10)\n",
    "    for i in clusters2[k]:\n",
    "        if(Ytrain[i]==0):\n",
    "            nums[0]=nums[0]+1\n",
    "        if(Ytrain[i]==1):\n",
    "            nums[1]=nums[1]+1\n",
    "        if(Ytrain[i]==2):\n",
    "            nums[2]=nums[2]+1\n",
    "        if(Ytrain[i]==3):\n",
    "            nums[3]=nums[3]+1\n",
    "        if(Ytrain[i]==4):\n",
    "            nums[4]=nums[4]+1\n",
    "        if(Ytrain[i]==5):\n",
    "            nums[5]=nums[5]+1\n",
    "        if(Ytrain[i]==6):\n",
    "            nums[6]=nums[6]+1\n",
    "        if(Ytrain[i]==7):\n",
    "            nums[7]=nums[7]+1\n",
    "        if(Ytrain[i]==8):\n",
    "            nums[8]=nums[8]+1\n",
    "        if(Ytrain[i]==9):\n",
    "            nums[9]=nums[9]+1\n",
    "    maxElement = np.amax(nums)\n",
    "    result = np.where(nums == np.amax(nums))\n",
    "    valuesclus.append(result)\n",
    "    \n",
    "    print(k,result , maxElement)\n",
    "    \n",
    "        \n"
   ]
  },
  {
   "cell_type": "code",
   "execution_count": 148,
   "metadata": {},
   "outputs": [
    {
     "name": "stdout",
     "output_type": "stream",
     "text": [
      "Accuracy is 60\n"
     ]
    }
   ],
   "source": [
    "\n",
    "X_test=x_test[0:50,:,:]\n",
    "Xtest=np.reshape(X_test,(50,784))\n",
    "Ytest=y_test[0:50]\n",
    "Xtest=Xtest/255\n",
    "clustestass2=np.zeros(50)\n",
    "for i in range(50):\n",
    "    mindist=1000000\n",
    "    for j in range(noofclus):\n",
    "        dist=calcdist(Xtest[i],cluster2[j])\n",
    "        if dist<mindist:\n",
    "            mindist=dist\n",
    "            clusterass2[i]=j+1\n",
    "\n",
    "count=0\n",
    "for i in range(50):\n",
    "    if(valuesclus[int(clusterass2[i]-1)] == Ytest[i]):\n",
    "        count=count+1\n",
    "print('Accuracy is',count*2)\n",
    "    "
   ]
  },
  {
   "cell_type": "code",
   "execution_count": null,
   "metadata": {},
   "outputs": [],
   "source": []
  }
 ],
 "metadata": {
  "kernelspec": {
   "display_name": "Python 3",
   "language": "python",
   "name": "python3"
  },
  "language_info": {
   "codemirror_mode": {
    "name": "ipython",
    "version": 3
   },
   "file_extension": ".py",
   "mimetype": "text/x-python",
   "name": "python",
   "nbconvert_exporter": "python",
   "pygments_lexer": "ipython3",
   "version": "3.7.1"
  }
 },
 "nbformat": 4,
 "nbformat_minor": 2
}
