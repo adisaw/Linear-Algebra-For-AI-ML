{
 "cells": [
  {
   "cell_type": "code",
   "execution_count": 13,
   "metadata": {},
   "outputs": [
    {
     "name": "stdout",
     "output_type": "stream",
     "text": [
      "b1 [-1.  0.  0.  0.  0.]\n",
      "b2 [ 0. -1.  0.  0.  0.]\n",
      "b3 [ 0.  0. -1.  0.  0.]\n",
      "b4 [ 0.  0.  0. -1.  0.]\n",
      "b5 [ 0.  0.  0.  0. -1.]\n"
     ]
    }
   ],
   "source": [
    "import numpy as np \n",
    "from sklearn.preprocessing import normalize\n",
    "\n",
    "a1=np.array([-1,0,0,0,0])\n",
    "a2=np.array([-1,-1,0,0,0])\n",
    "a3=np.array([-1,-1,-1,0,0])\n",
    "a4=np.array([-1,-1,-1,-1,0])\n",
    "a5=np.array([-1,-1,-1,-1,-1])\n",
    "\n",
    "b1=a1 / np.linalg.norm(a1)\n",
    "b2=a2 - np.dot(b1,a2)*b1 \n",
    "b2= b2/np.linalg.norm(b2)\n",
    "b3=a3-np.dot(b1,a3)*b1-np.dot(b2,a3)*b2\n",
    "b3=b3/np.linalg.norm(b3)\n",
    "b4=a4 -np.dot(b1,a4)*b1 - np.dot(b2,a4)*b2 - np.dot(b3,a4)*b3\n",
    "b4=b4/np.linalg.norm(b4)\n",
    "b5=a5 -np.dot(b1,a5)*b1 - np.dot(b2,a5)*b2  - np.dot(b3,a5)*b3 - np.dot(b4,a5)*b4\n",
    "b5=b5/np.linalg.norm(b5)\n",
    "print('b1',b1)\n",
    "print('b2',b2)\n",
    "print('b3',b3)\n",
    "print('b4',b4)\n",
    "print('b5',b5)\n",
    "\n",
    "\n"
   ]
  },
  {
   "cell_type": "code",
   "execution_count": 20,
   "metadata": {},
   "outputs": [
    {
     "name": "stdout",
     "output_type": "stream",
     "text": [
      "b1 [-1.  0.  0.  0.  0.]\n",
      "b2 [ 0.         -0.70710678 -0.70710678  0.          0.        ]\n",
      "b3 [ 0.00000000e+00 -1.57009246e-16 -1.57009246e-16 -7.07106781e-01\n",
      " -7.07106781e-01]\n",
      "b4 [ 0.00000000e+00 -7.07106781e-01  7.07106781e-01  1.57009246e-16\n",
      "  1.57009246e-16]\n",
      "b5 [ 0.00000000e+00  1.90484157e-17 -3.33066907e-16 -7.07106781e-01\n",
      "  7.07106781e-01]\n"
     ]
    }
   ],
   "source": [
    "b1=a1 / np.linalg.norm(a1)\n",
    "b2=a3 - np.dot(b1,a3)*b1 \n",
    "b2= b2/np.linalg.norm(b2)\n",
    "b3=a5-np.dot(b1,a5)*b1-np.dot(b2,a5)*b2\n",
    "b3=b3/np.linalg.norm(b3)\n",
    "b4=a2 -np.dot(b1,a2)*b1 - np.dot(b2,a2)*b2 - np.dot(b3,a2)*b3\n",
    "b4=b4/np.linalg.norm(b4)\n",
    "b5=a4 -np.dot(b1,a4)*b1 - np.dot(b2,a4)*b2  - np.dot(b3,a4)*b3 - np.dot(b4,a4)*b4\n",
    "b5=b5/np.linalg.norm(b5)\n",
    "print('b1',b1)\n",
    "print('b2',b2)\n",
    "print('b3',b3)\n",
    "print('b4',b4)\n",
    "print('b5',b5)\n"
   ]
  },
  {
   "cell_type": "code",
   "execution_count": 21,
   "metadata": {},
   "outputs": [
    {
     "name": "stdout",
     "output_type": "stream",
     "text": [
      "b1 [-0.4472136 -0.4472136 -0.4472136 -0.4472136 -0.4472136]\n",
      "b2 [-0.2236068  -0.2236068  -0.2236068  -0.2236068   0.89442719]\n",
      "b3 [-2.88675135e-01 -2.88675135e-01 -2.88675135e-01  8.66025404e-01\n",
      " -2.56395025e-16]\n",
      "b4 [-4.08248290e-01 -4.08248290e-01  8.16496581e-01  2.03960993e-16\n",
      " -2.26623326e-17]\n",
      "b5 [-7.07106781e-01  7.07106781e-01 -1.57009246e-16 -5.22945840e-32\n",
      "  6.53682299e-33]\n"
     ]
    }
   ],
   "source": [
    "b1=a5 / np.linalg.norm(a5)\n",
    "b2=a4 - np.dot(b1,a4)*b1 \n",
    "b2= b2/np.linalg.norm(b2)\n",
    "b3=a3-np.dot(b1,a3)*b1-np.dot(b2,a3)*b2\n",
    "b3=b3/np.linalg.norm(b3)\n",
    "b4=a2 -np.dot(b1,a2)*b1 - np.dot(b2,a2)*b2 - np.dot(b3,a2)*b3\n",
    "b4=b4/np.linalg.norm(b4)\n",
    "b5=a1 -np.dot(b1,a1)*b1 - np.dot(b2,a1)*b2  - np.dot(b3,a1)*b3 - np.dot(b4,a1)*b4\n",
    "b5=b5/np.linalg.norm(b5)\n",
    "print('b1',b1)\n",
    "print('b2',b2)\n",
    "print('b3',b3)\n",
    "print('b4',b4)\n",
    "print('b5',b5)"
   ]
  },
  {
   "cell_type": "code",
   "execution_count": null,
   "metadata": {},
   "outputs": [],
   "source": []
  }
 ],
 "metadata": {
  "kernelspec": {
   "display_name": "Python 3",
   "language": "python",
   "name": "python3"
  },
  "language_info": {
   "codemirror_mode": {
    "name": "ipython",
    "version": 3
   },
   "file_extension": ".py",
   "mimetype": "text/x-python",
   "name": "python",
   "nbconvert_exporter": "python",
   "pygments_lexer": "ipython3",
   "version": "3.7.1"
  }
 },
 "nbformat": 4,
 "nbformat_minor": 2
}
